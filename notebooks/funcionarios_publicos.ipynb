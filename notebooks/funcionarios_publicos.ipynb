{
 "cells": [
  {
   "cell_type": "markdown",
   "metadata": {},
   "source": [
    "# Listado de funcionarios públicos por institución\n",
    "Este cuaderno se muestra cómo obtener la lista de nombres de funcionarios públicos disponibles en el portal de transparencia gubernamental de El Salvador (https://www.transparencia.gob.sv/api/v1/officials). Los datos se recaban a partir del 2019-06-01 a manera de ejemplo."
   ]
  },
  {
   "cell_type": "code",
   "execution_count": null,
   "metadata": {},
   "outputs": [],
   "source": [
    "import requests\n",
    "from urllib.parse import urlencode\n",
    "import pandas as pd\n",
    "import csv"
   ]
  },
  {
   "cell_type": "markdown",
   "metadata": {},
   "source": [
    "Primero definimos la url base a utilizar para obtener los datos de las instituciones públicas del API (ver ejemplo de cuaderno de días sin actualizar) y los parámetros para hacer la consulta."
   ]
  },
  {
   "cell_type": "code",
   "execution_count": null,
   "metadata": {},
   "outputs": [],
   "source": [
    "url_instituciones = 'https://www.transparencia.gob.sv/api/v1/institutions.json?'\n",
    "datos_instituciones = {\"start_at\":\"2010-01-01\", \"end_at\":\"2022-07-31\", \"per_page\":1000, \"page\":1}"
   ]
  },
  {
   "cell_type": "markdown",
   "metadata": {},
   "source": [
    "Descargamos los datos de todas las instituciones del API. El try ... except sirve para gestionar errores en caso de error. Revisar ejemplos aquí: https://www.w3schools.com/python/python_try_except.asp"
   ]
  },
  {
   "cell_type": "code",
   "execution_count": null,
   "metadata": {},
   "outputs": [],
   "source": [
    "try:\n",
    "    url = url_instituciones + urlencode(datos_instituciones)\n",
    "    instituciones = requests.get(url).json()\n",
    "except:\n",
    "    print(\"Error en la obtención de los archivos. Intente de nuevo.\")"
   ]
  },
  {
   "cell_type": "code",
   "execution_count": null,
   "metadata": {},
   "outputs": [],
   "source": [
    "datos_funcionarios = {\"start_at\":\"2019-06-01\", \"end_at\":\"2022-07-31\", \"institution_id\":1, \"per_page\":10000, \"page\":1}\n",
    "url_funcionarios = 'https://www.transparencia.gob.sv/api/v1/officials.json?'"
   ]
  },
  {
   "cell_type": "code",
   "execution_count": null,
   "metadata": {},
   "outputs": [],
   "source": [
    "#Usaremos esta variable para identificar si estamos en la primera iteración y así colocar los encabezados al archivo CSV\n",
    "iteracion = 0"
   ]
  },
  {
   "cell_type": "markdown",
   "metadata": {},
   "source": [
    "Creamos un bucle en el que descargaremos los datos de cada institucion. Luego, crearemos un dataframe con pandas y con ellos se guardarán los datos en un archivo \"resultados.csv\". Esto puede tardar varios minutos. El archivo estará en la misma carpeta del notebook. Para efectos de prueba, solo se descargan los datos de las primeras 25 instituciones, pero si se remueve la expresión [:25] descargará todo (toma varios minutos). "
   ]
  },
  {
   "cell_type": "code",
   "execution_count": null,
   "metadata": {},
   "outputs": [],
   "source": [
    "for institucion in instituciones[:25]:\n",
    "    datos_funcionarios['institution_id'] = institucion['id']\n",
    "    url = url_funcionarios + urlencode(datos_funcionarios)\n",
    "    try:\n",
    "        datos = requests.get(url).json()\n",
    "    except:\n",
    "        print(\"Hubo un error en la obtención de datos.\")\n",
    "    if len(datos) > 0: #Verificamos que la respuesta no esté vacia\n",
    "        df = pd.DataFrame(datos)\n",
    "        df.drop(columns = [\"curriculum\"], inplace=True) #Eliminamos los datos de los CV por ocupar demasiado espacio\n",
    "    else:\n",
    "        continue\n",
    "    if iteracion:\n",
    "        df.to_csv('resultado.csv', index=False, quoting=csv.QUOTE_ALL, header=False, mode=\"a\")\n",
    "    else:\n",
    "        df.to_csv('resultado.csv', index=False, quoting=csv.QUOTE_ALL)\n",
    "        iteracion += 1\n",
    "    print(\"Continuo descargando...\")"
   ]
  },
  {
   "cell_type": "code",
   "execution_count": null,
   "metadata": {},
   "outputs": [],
   "source": []
  }
 ],
 "metadata": {
  "kernelspec": {
   "display_name": "Python 3",
   "language": "python",
   "name": "python3"
  },
  "language_info": {
   "codemirror_mode": {
    "name": "ipython",
    "version": 3
   },
   "file_extension": ".py",
   "mimetype": "text/x-python",
   "name": "python",
   "nbconvert_exporter": "python",
   "pygments_lexer": "ipython3",
   "version": "3.9.7"
  }
 },
 "nbformat": 4,
 "nbformat_minor": 4
}
