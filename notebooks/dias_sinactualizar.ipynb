{
 "cells": [
  {
   "cell_type": "markdown",
   "metadata": {},
   "source": [
    "Notebook de ejemplo de consumo de datos del portal de transparencia del Instituto de Acceso a la Información Pública de El Salvador (https://www.transparencia.gob.sv/api/v1/home). En el ejemplo, obtenemos los datos de las instituciones registradas en el portal para con ello calcular la cantidad de días que, en promedio, cada conjunto de instituciones tiene de no actualizar sus datos o documentos."
   ]
  },
  {
   "cell_type": "code",
   "execution_count": null,
   "metadata": {},
   "outputs": [],
   "source": [
    "import requests\n",
    "from urllib.parse import urlencode\n",
    "import pandas as pd\n",
    "from datetime import datetime"
   ]
  },
  {
   "cell_type": "markdown",
   "metadata": {},
   "source": [
    "Primero, definimos la url base, creamos un diccionario con los parámetros a enviar al API y luego creamos la url de consulta final. Estos parámetros los obtenemos de: https://www.transparencia.gob.sv/api/v1/institutions"
   ]
  },
  {
   "cell_type": "code",
   "execution_count": null,
   "metadata": {},
   "outputs": [],
   "source": [
    "url_base = 'https://www.transparencia.gob.sv/api/v1/institutions.json'\n",
    "datos = {\"start_at\": \"2010-01-01\", \"end_at\":\"2022-07-30\", \"page\":1, \"per_page\":\"1000\"} #Obtiene la lista de todas las entidades\n",
    "url = url_base + '?' + urlencode(datos)"
   ]
  },
  {
   "cell_type": "markdown",
   "metadata": {},
   "source": [
    "Luego, utiliando la librería requests haremos una petición get y convertiremos el resultado a un diccionario de Python con la función json. Si esta falla, señalará un error; caso contrario, creará un dataframe de pandas para trabajar con él."
   ]
  },
  {
   "cell_type": "code",
   "execution_count": null,
   "metadata": {},
   "outputs": [],
   "source": [
    "try:\n",
    "    datos = requests.get(url).json()\n",
    "except:\n",
    "    print(\"Hubo un error obteniendo los datos. Vuelve a probar.\")\n",
    "else:\n",
    "    df = pd.DataFrame(datos)"
   ]
  },
  {
   "cell_type": "markdown",
   "metadata": {},
   "source": [
    "Luego, utilizando pandas y la librería datetime se obtendrán las fechas de última actualización de las instituciones del portal de transparencia y, con ello, se calculará la cantidad de días sin actualizar."
   ]
  },
  {
   "cell_type": "code",
   "execution_count": null,
   "metadata": {},
   "outputs": [],
   "source": [
    "hoy = datetime.today()\n",
    "df['dias'] = df['updated_at'].apply(lambda x: (hoy - datetime.strptime(x[:10], '%Y-%m-%d')).days)\n",
    "print(df['dias'])"
   ]
  },
  {
   "cell_type": "markdown",
   "metadata": {},
   "source": [
    "Vamos por partes. ¿Qué hace cada cosa? strptime se encarga de convertir una cadena de texto en un objeto datetime según el formato dado en el segundo parámetro de la función. Para este caso, obtenemos los 10 primeros elementos de la columna 'updated_at' (que es lo que nos interesa), y lo convertimos. Luego, al objeto datetime con la fecha de hoy le restamos la fecha obtenida mediante el API para calcular la cantidad de días sin actualizar."
   ]
  },
  {
   "cell_type": "code",
   "execution_count": null,
   "metadata": {},
   "outputs": [],
   "source": [
    "#A continuación calculamos el promedio de días sin actualizar para cada tipo de institución\n",
    "df.groupby(\"institution_type_id\")['dias'].mean()"
   ]
  },
  {
   "cell_type": "code",
   "execution_count": null,
   "metadata": {},
   "outputs": [],
   "source": [
    "#Finalmente, graficamos el resultado\n",
    "grafica = df.groupby(\"institution_type_id\")['dias'].mean().plot.bar()"
   ]
  },
  {
   "cell_type": "markdown",
   "metadata": {},
   "source": [
    "Por último, guardaremos los resultados de nuestros cálculos y los datos obtenidos del API en un archivo CSV para reutilizarlo cuando querramos."
   ]
  },
  {
   "cell_type": "code",
   "execution_count": null,
   "metadata": {},
   "outputs": [],
   "source": [
    "df.to_csv('archivo_procesado.csv')"
   ]
  },
  {
   "cell_type": "code",
   "execution_count": null,
   "metadata": {},
   "outputs": [],
   "source": []
  }
 ],
 "metadata": {
  "kernelspec": {
   "display_name": "Python 3",
   "language": "python",
   "name": "python3"
  },
  "language_info": {
   "codemirror_mode": {
    "name": "ipython",
    "version": 3
   },
   "file_extension": ".py",
   "mimetype": "text/x-python",
   "name": "python",
   "nbconvert_exporter": "python",
   "pygments_lexer": "ipython3",
   "version": "3.9.7"
  }
 },
 "nbformat": 4,
 "nbformat_minor": 4
}
